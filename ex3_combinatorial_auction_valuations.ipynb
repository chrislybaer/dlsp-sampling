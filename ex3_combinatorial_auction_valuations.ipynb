{
 "cells": [
  {
   "cell_type": "code",
   "execution_count": 1,
   "metadata": {},
   "outputs": [],
   "source": [
    "%load_ext autoreload\n",
    "%autoreload 2\n",
    "\n",
    "import lsp \n",
    "\n",
    "import numpy as np\n",
    "from matplotlib import pyplot as plt"
   ]
  },
  {
   "cell_type": "markdown",
   "metadata": {},
   "source": [
    "# Combinatorial Auctions Example\n",
    "\n",
    "In this example we can use the identity $\\hat{s}_B = (-1)^{|B|}(\\mbox{DSFT}' s)_B$ in order to utilize our existing implementations of fast Fourier transform for set functions [1].\n",
    "\n",
    "[1] Pueschel, M.; A Discrete Signal Processing Framework for Set Functions; https://acl.inf.ethz.ch/publications/icassp18-setfcts.pdf"
   ]
  },
  {
   "cell_type": "code",
   "execution_count": 2,
   "metadata": {},
   "outputs": [],
   "source": [
    "def cartesian_product(*arrays):\n",
    "    la = len(arrays)\n",
    "    dtype = np.result_type(*arrays)\n",
    "    arr = np.empty([len(a) for a in arrays] + [la], dtype=dtype)\n",
    "    for i, a in enumerate(np.ix_(*arrays)):\n",
    "        arr[..., i] = a\n",
    "    return arr \n",
    "\n",
    "def submatrix_liF(rows, columns):\n",
    "    prod = cartesian_product(rows, columns)\n",
    "    intersections = prod[:, :, 0] & prod[:, :, 1]\n",
    "    subsets = (prod[:, :, 0] & prod[:, :, 1]) == prod[:, :, 1]\n",
    "    cards = []\n",
    "    for row in intersections:\n",
    "        cards.append([lsp.pypopcount(entry) for entry in row])\n",
    "    cards = np.asarray(cards)\n",
    "    return (subsets).astype(np.float64)\n",
    "\n",
    "def lattice_spectrum(s, N):\n",
    "    popc = lsp.popcount(np.arange(2**N).astype(np.uint32)).astype(np.int32)\n",
    "    s_hat = lsp.fdsft3(s)\n",
    "    return s_hat * (-1)**popc"
   ]
  },
  {
   "cell_type": "code",
   "execution_count": 3,
   "metadata": {},
   "outputs": [],
   "source": [
    "data = np.load('./data/GSVM.npy')\n",
    "data = data[0]\n",
    "N = int(np.log2(data.shape[1]))"
   ]
  },
  {
   "cell_type": "markdown",
   "metadata": {},
   "source": [
    "### For an example valuation function, sort subsets (bundles) by their cardinality and plot the valuation and its spectrum."
   ]
  },
  {
   "cell_type": "code",
   "execution_count": 4,
   "metadata": {},
   "outputs": [],
   "source": [
    "popc = lsp.popcount(np.arange(2**N))\n",
    "s = data[0]\n",
    "s_hat = lattice_spectrum(s, N)\n",
    "example = []\n",
    "example_hat = []\n",
    "sizes = []\n",
    "sets = []\n",
    "for size in range(N+1):\n",
    "    example += [s[popc == size]]\n",
    "    example_hat += [s_hat[popc == size]]\n",
    "    sets += [np.where(popc == size)[0]]\n",
    "    sizes += (popc == size).sum()*[size]\n",
    "example = np.concatenate(example)\n",
    "example_hat = np.concatenate(example_hat)\n",
    "sets = np.concatenate(sets)\n",
    "sizes = np.asarray(sizes)"
   ]
  },
  {
   "cell_type": "code",
   "execution_count": 5,
   "metadata": {},
   "outputs": [
    {
     "data": {
      "image/png": "[encoded data removed]",
      "text/plain": [
       "<Figure size 432x288 with 1 Axes>"
      ]
     },
     "metadata": {
      "needs_background": "light"
     },
     "output_type": "display_data"
    },
    {
     "data": {
      "image/png": "[encoded data removed]",
      "text/plain": [
       "<Figure size 432x288 with 1 Axes>"
      ]
     },
     "metadata": {
      "needs_background": "light"
     },
     "output_type": "display_data"
    }
   ],
   "source": [
    "plt.plot(example)\n",
    "plt.show()\n",
    "plt.plot(example_hat)\n",
    "plt.show()"
   ]
  },
  {
   "cell_type": "code",
   "execution_count": 6,
   "metadata": {},
   "outputs": [],
   "source": [
    "fourier_support = np.where(popc <= 2)[0]\n",
    "errs = []\n",
    "for s in data:\n",
    "    s /= np.linalg.norm(s)\n",
    "    M = submatrix_liF(fourier_support, fourier_support)\n",
    "    s_spectrum, _, _, _ = np.linalg.lstsq(M, s[fourier_support], rcond=-1)\n",
    "    s_hat = np.zeros(2**N)\n",
    "    s_hat[fourier_support] = s_spectrum\n",
    "    s_approx = lsp.fidsft3(s_hat * (-1)**popc)\n",
    "    errs.append(np.linalg.norm(s - s_approx))"
   ]
  },
  {
   "cell_type": "code",
   "execution_count": 7,
   "metadata": {},
   "outputs": [
    {
     "name": "stdout",
     "output_type": "stream",
     "text": [
      "mean relative of reconstruction error 4.314737525604432e-06\n",
      "standard deviation of reconstruction error 1.7453649107869637e-06\n"
     ]
    }
   ],
   "source": [
    "print(\"mean relative of reconstruction error\", np.mean(errs))\n",
    "print(\"standard deviation of reconstruction error\", np.std(errs))"
   ]
  }
 ],
 "metadata": {
  "kernelspec": {
   "display_name": "Python 3",
   "language": "python",
   "name": "python3"
  },
  "language_info": {
   "codemirror_mode": {
    "name": "ipython",
    "version": 3
   },
   "file_extension": ".py",
   "mimetype": "text/x-python",
   "name": "python",
   "nbconvert_exporter": "python",
   "pygments_lexer": "ipython3",
   "version": "3.7.3"
  }
 },
 "nbformat": 4,
 "nbformat_minor": 2
}
